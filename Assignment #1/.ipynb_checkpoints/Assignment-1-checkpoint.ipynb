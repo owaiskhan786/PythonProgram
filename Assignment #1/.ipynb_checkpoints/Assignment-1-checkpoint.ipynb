{
 "cells": [
  {
   "cell_type": "code",
   "execution_count": 2,
   "id": "6639511c",
   "metadata": {},
   "outputs": [
    {
     "name": "stdout",
     "output_type": "stream",
     "text": [
      "Twinkle Twinkle, little star,\n",
      "       How I wonder what you are!\n",
      "             Up above the world so high,\n",
      "             Like a diamond in the sky\n",
      "Twinkle Twinkle, little star,\n",
      "       How I wonder what you are!\n"
     ]
    }
   ],
   "source": [
    "print(\"Twinkle Twinkle, little star,\");\n",
    "print(\"       How I wonder what you are!\");\n",
    "print(\"             Up above the world so high,\");\n",
    "print(\"             Like a diamond in the sky\");\n",
    "print(\"Twinkle Twinkle, little star,\");\n",
    "print(\"       How I wonder what you are!\");"
   ]
  },
  {
   "cell_type": "code",
   "execution_count": 3,
   "id": "c2cfb6bd",
   "metadata": {},
   "outputs": [
    {
     "name": "stdout",
     "output_type": "stream",
     "text": [
      "Python version\n",
      "3.9.7 (default, Sep 16 2021, 16:59:28) [MSC v.1916 64 bit (AMD64)]\n",
      "Version info.\n",
      "sys.version_info(major=3, minor=9, micro=7, releaselevel='final', serial=0)\n"
     ]
    }
   ],
   "source": [
    "import sys\n",
    "print(\"Python version\")\n",
    "print (sys.version)\n",
    "print(\"Version info.\")\n",
    "print (sys.version_info)"
   ]
  },
  {
   "cell_type": "code",
   "execution_count": 4,
   "id": "74ecbd98",
   "metadata": {},
   "outputs": [
    {
     "name": "stdout",
     "output_type": "stream",
     "text": [
      "Today's date: 2022-01-01\n"
     ]
    }
   ],
   "source": [
    "from datetime import date\n",
    "\n",
    "today = date.today()\n",
    "print(\"Today's date:\", today)"
   ]
  },
  {
   "cell_type": "code",
   "execution_count": 10,
   "id": "94e775a5",
   "metadata": {},
   "outputs": [
    {
     "name": "stdout",
     "output_type": "stream",
     "text": [
      "Enter Radius : 4\n",
      "Diameter = 2 * 4 : diameter = 44\n"
     ]
    }
   ],
   "source": [
    "radius = input(\"Enter Radius : \")\n",
    "diameter = 2* radius\n",
    "print(\"Diameter = 2 * \"+ radius +\" : diameter = \" + diameter)"
   ]
  },
  {
   "cell_type": "code",
   "execution_count": 11,
   "id": "ec387ed7",
   "metadata": {},
   "outputs": [
    {
     "name": "stdout",
     "output_type": "stream",
     "text": [
      "Enter First Name :Owais\n",
      "Enter Second Name : Khan\n",
      "Your Name is :Khan Owais\n"
     ]
    }
   ],
   "source": [
    "FirstName = input(\"Enter First Name :\")\n",
    "SecondName = input(\"Enter Second Name : \")\n",
    "print(\"Your Name is :\"+ SecondName +\" \"+FirstName)"
   ]
  },
  {
   "cell_type": "code",
   "execution_count": 15,
   "id": "a4826cf6",
   "metadata": {},
   "outputs": [
    {
     "name": "stdout",
     "output_type": "stream",
     "text": [
      "Enter First Number : 5\n",
      "Enter Second Number : 3\n",
      "8\n"
     ]
    }
   ],
   "source": [
    "a = input(\"Enter First Number : \")\n",
    "b = input(\"Enter Second Number : \")\n",
    "c = int(a) + int(b)\n",
    "print(c)"
   ]
  },
  {
   "cell_type": "code",
   "execution_count": null,
   "id": "ffcce855",
   "metadata": {},
   "outputs": [],
   "source": []
  },
  {
   "cell_type": "code",
   "execution_count": null,
   "id": "2152ebe9",
   "metadata": {},
   "outputs": [],
   "source": []
  }
 ],
 "metadata": {
  "kernelspec": {
   "display_name": "Python 3 (ipykernel)",
   "language": "python",
   "name": "python3"
  },
  "language_info": {
   "codemirror_mode": {
    "name": "ipython",
    "version": 3
   },
   "file_extension": ".py",
   "mimetype": "text/x-python",
   "name": "python",
   "nbconvert_exporter": "python",
   "pygments_lexer": "ipython3",
   "version": "3.9.7"
  }
 },
 "nbformat": 4,
 "nbformat_minor": 5
}
